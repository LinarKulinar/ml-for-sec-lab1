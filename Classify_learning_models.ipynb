{
 "cells": [
  {
   "cell_type": "markdown",
   "metadata": {},
   "source": [
    "## В данном файле определены методы classify для разных заданий"
   ]
  },
  {
   "cell_type": "code",
   "execution_count": 1,
   "metadata": {},
   "outputs": [],
   "source": [
    "import numpy as np\n",
    "import pandas as pd\n",
    "import pickle\n",
    "from sklearn.metrics import confusion_matrix,f1_score,classification_report"
   ]
  },
  {
   "cell_type": "code",
   "execution_count": 2,
   "metadata": {},
   "outputs": [],
   "source": [
    "features_file_name = 'features_train.csv'\n",
    "classes_file_name = 'classes_train.csv'"
   ]
  },
  {
   "cell_type": "markdown",
   "metadata": {},
   "source": [
    "### Для модели из задания 1.1"
   ]
  },
  {
   "cell_type": "code",
   "execution_count": 3,
   "metadata": {},
   "outputs": [],
   "source": [
    "def classify_task1(modelFileName, scalerFilename, dataFileName) -> np.array:\n",
    "    \"\"\"\n",
    "    :param modelFileName: Имя файла, из которого будут загружены параметры обученной ML-модели (например model.txt)\n",
    "    :param scalerFileName: Имя файла, из которого будет загружен scaler для предобработки данных (например model.txt)\n",
    "    :param dataFileName: Имя CSV-файла с данными для анализа, которые нужно классифицировать.\n",
    "    Файл имеет ту же структуру, что и файл обучающей выборки. Каждая строка файла (кроме заголовочной) содержит признаки одного пользователя\n",
    "    :return: numpy-вектор с результатами классификации размерности (K, ), где K - количество содержательных строк в dataframe\n",
    "    \"\"\"\n",
    "    features_raw = pd.read_csv(dataFileName)\n",
    "    \n",
    "    with open(scalerFilename, 'rb') as f:\n",
    "        scaler = pickle.load(f)\n",
    "    features = scaler.transform(features_raw)\n",
    "    \n",
    "    with open(modelFileName, 'rb') as f:\n",
    "        model = pickle.load(f)\n",
    "    predictions = model.predict(features)\n",
    "    return predictions"
   ]
  },
  {
   "cell_type": "code",
   "execution_count": 4,
   "metadata": {},
   "outputs": [],
   "source": [
    "y_test = pd.read_csv(classes_file_name)"
   ]
  },
  {
   "cell_type": "code",
   "execution_count": 5,
   "metadata": {},
   "outputs": [],
   "source": [
    "predictions = classify_task1('./models/model_task_1.1.pkl', './models/scaler_task_1.1.pkl', features_file_name)"
   ]
  },
  {
   "cell_type": "code",
   "execution_count": 6,
   "metadata": {
    "scrolled": true
   },
   "outputs": [
    {
     "name": "stdout",
     "output_type": "stream",
     "text": [
      "Confussion matrix\n",
      "[[1788   12]\n",
      " [   2  598]]\n",
      "\n",
      "\n",
      "F1 of model: 0.9941826469301778 \n",
      "\n",
      "              precision    recall  f1-score   support\n",
      "\n",
      "           0       1.00      0.99      1.00      1800\n",
      "           1       0.98      1.00      0.99       600\n",
      "\n",
      "    accuracy                           0.99      2400\n",
      "   macro avg       0.99      0.99      0.99      2400\n",
      "weighted avg       0.99      0.99      0.99      2400\n",
      "\n"
     ]
    }
   ],
   "source": [
    "conf_matrix = confusion_matrix(y_test, predictions)\n",
    "model_f1_score = f1_score(y_test, predictions, average=\"weighted\")\n",
    "\n",
    "print(\"Confussion matrix\")\n",
    "\n",
    "print(conf_matrix)\n",
    "print(\"\\n\")\n",
    "print(\"F1 of model:\", model_f1_score,'\\n')\n",
    "print(classification_report(y_test, predictions))"
   ]
  },
  {
   "cell_type": "markdown",
   "metadata": {},
   "source": [
    "### Для модели из задания 2.1"
   ]
  },
  {
   "cell_type": "code",
   "execution_count": 7,
   "metadata": {},
   "outputs": [],
   "source": [
    "def classify_task2(modelFileName, scalerFilename, dataFileName) -> np.array:\n",
    "    \"\"\"\n",
    "    :param modelFileName: Имя файла, из которого будут загружены параметры обученной ML-модели (напирмер model.txt)\n",
    "    :param scalerFileName: Имя файла, из которого будет загружен scaler для предобработки данных (например model.txt)\n",
    "    :param dataFileName: Имя CSV-файла с данными для анализа, которые нужно классифицировать.\n",
    "    Файл имеет ту же структуру, что и файл обучающей выборки. Каждая строка файла (кроме заголовочной) содержит признаки одного пользователя\n",
    "    :return: numpy-вектор с результатами классификации размерности (K, ), где K - количество содержательных строк в dataframe\n",
    "    \"\"\"\n",
    "    most_corr_fields_list = ['is_verified',\n",
    "     'user_age',\n",
    "     'is_default_profile',\n",
    "     'favourites_count',\n",
    "     'is_profile_use_background_image',\n",
    "     'favourites_growth_rate',\n",
    "     'description_length',\n",
    "     'friends_count',\n",
    "     'friends_growth_rate',\n",
    "     'screen_name_length',\n",
    "     'listed_growth_rate']\n",
    "    \n",
    "    features_raw = pd.read_csv(dataFileName)\n",
    "    \n",
    "    with open(scalerFilename, 'rb') as f:\n",
    "        scaler = pickle.load(f)\n",
    "    features = scaler.transform(features_raw[most_corr_fields_list])\n",
    "    \n",
    "    with open(modelFileName, 'rb') as f:\n",
    "        model = pickle.load(f)\n",
    "    predictions = model.predict(features)\n",
    "    return predictions"
   ]
  },
  {
   "cell_type": "code",
   "execution_count": 8,
   "metadata": {},
   "outputs": [],
   "source": [
    "y_test = pd.read_csv(classes_file_name)"
   ]
  },
  {
   "cell_type": "code",
   "execution_count": 9,
   "metadata": {},
   "outputs": [],
   "source": [
    "predictions = classify_task2('./models/model_task_2.1.pkl', './models/scaler_task_2.1.pkl', features_file_name)"
   ]
  },
  {
   "cell_type": "code",
   "execution_count": 10,
   "metadata": {},
   "outputs": [
    {
     "name": "stdout",
     "output_type": "stream",
     "text": [
      "Confussion matrix\n",
      "[[1789   11]\n",
      " [   3  597]]\n",
      "\n",
      "\n",
      "F1 of model: 0.9941794864231036 \n",
      "\n",
      "              precision    recall  f1-score   support\n",
      "\n",
      "           0       1.00      0.99      1.00      1800\n",
      "           1       0.98      0.99      0.99       600\n",
      "\n",
      "    accuracy                           0.99      2400\n",
      "   macro avg       0.99      0.99      0.99      2400\n",
      "weighted avg       0.99      0.99      0.99      2400\n",
      "\n"
     ]
    }
   ],
   "source": [
    "conf_matrix = confusion_matrix(y_test, predictions)\n",
    "model_f1_score = f1_score(y_test, predictions, average=\"weighted\")\n",
    "\n",
    "print(\"Confussion matrix\")\n",
    "\n",
    "print(conf_matrix)\n",
    "print(\"\\n\")\n",
    "print(\"F1 of model:\", model_f1_score,'\\n')\n",
    "print(classification_report(y_test, predictions))"
   ]
  }
 ],
 "metadata": {
  "kernelspec": {
   "display_name": "Python 3",
   "language": "python",
   "name": "python3"
  },
  "language_info": {
   "codemirror_mode": {
    "name": "ipython",
    "version": 3
   },
   "file_extension": ".py",
   "mimetype": "text/x-python",
   "name": "python",
   "nbconvert_exporter": "python",
   "pygments_lexer": "ipython3",
   "version": "3.7.6"
  }
 },
 "nbformat": 4,
 "nbformat_minor": 4
}
